{
 "cells": [
  {
   "cell_type": "markdown",
   "metadata": {},
   "source": [
    "# การประยุกต์ใช้โครงสร้างต้นไม้กับ Tree data structure\n",
    "# 1. ผลรวม คู่อันดับก่อนหน้าและลำดับตามหลัง root\n",
    "# 2. ผลรวมของ ต้นไม้ทั้งต้น \n",
    "# 3. ค้นหา โหนดในต้นไม้ ว่ามีเลขที่เราต้องการหรือไม่\n",
    "# 4. ผลรวมของ กิ่งซ้ายสุด และ กิ่งขวาสุด ของต้นไม้"
   ]
  },
  {
   "cell_type": "code",
   "execution_count": 82,
   "metadata": {},
   "outputs": [
    {
     "name": "stdout",
     "output_type": "stream",
     "text": [
      "Perfect BST of given height : \n",
      " \n",
      "        ______7_______\n",
      "       /              \\\n",
      "    __3__           ___11___\n",
      "   /     \\         /        \\\n",
      "  1       5       9         _13\n",
      " / \\     / \\     / \\       /   \\\n",
      "0   2   4   6   8   10    12    14\n",
      "\n"
     ]
    }
   ],
   "source": [
    "\n",
    "from binarytree import bst\n",
    "root = bst(height = 3,is_perfect=True)\n",
    "print('Perfect BST of given height : \\n',\n",
    "      root)"
   ]
  },
  {
   "cell_type": "code",
   "execution_count": 83,
   "metadata": {},
   "outputs": [
    {
     "name": "stdout",
     "output_type": "stream",
     "text": [
      "[Node(0), Node(1), Node(2), Node(3), Node(4), Node(5), Node(6), Node(7), Node(8), Node(9), Node(10), Node(11), Node(12), Node(13), Node(14)]\n"
     ]
    }
   ],
   "source": [
    "print(root.inorder)\n"
   ]
  },
  {
   "cell_type": "code",
   "execution_count": 84,
   "metadata": {},
   "outputs": [
    {
     "name": "stdout",
     "output_type": "stream",
     "text": [
      "[Node(7), Node(3), Node(1), Node(0), Node(2), Node(5), Node(4), Node(6), Node(11), Node(9), Node(8), Node(10), Node(13), Node(12), Node(14)]\n"
     ]
    }
   ],
   "source": [
    "print(root.preorder)"
   ]
  },
  {
   "cell_type": "code",
   "execution_count": 85,
   "metadata": {},
   "outputs": [
    {
     "name": "stdout",
     "output_type": "stream",
     "text": [
      "[Node(0), Node(2), Node(1), Node(4), Node(6), Node(5), Node(3), Node(8), Node(10), Node(9), Node(12), Node(14), Node(13), Node(11), Node(7)]\n"
     ]
    }
   ],
   "source": [
    "print(root.postorder)"
   ]
  },
  {
   "cell_type": "markdown",
   "metadata": {},
   "source": [
    "# 1. ผลรวม คู่อันดับก่อนหน้าและลำดับตามหลัง root"
   ]
  },
  {
   "cell_type": "code",
   "execution_count": 86,
   "metadata": {},
   "outputs": [
    {
     "name": "stdout",
     "output_type": "stream",
     "text": [
      "7\n",
      "3\n",
      "11\n",
      "1 # : 14\n"
     ]
    }
   ],
   "source": [
    "def TraverseTree(root):\n",
    "    print(root.value)\n",
    "    print(root.left.value)\n",
    "    print(root.right.value)\n",
    "    Sum = root.left.value + root.right.value \n",
    "    return Sum\n",
    "    \n",
    "Sum = TraverseTree(root)\n",
    "print(\"1 # : \" + str(Sum))"
   ]
  },
  {
   "cell_type": "markdown",
   "metadata": {},
   "source": [
    "# 2. ผลรวมของ ต้นไม้ทั้งต้น"
   ]
  },
  {
   "cell_type": "code",
   "execution_count": 92,
   "metadata": {},
   "outputs": [
    {
     "name": "stdout",
     "output_type": "stream",
     "text": [
      "2 # : 105\n"
     ]
    }
   ],
   "source": [
    "def InorderTraverseTree(root):\n",
    "    \n",
    "    if root:\n",
    "        return  InorderTraverseTree(root.left) + int(root.value) +InorderTraverseTree(root.right)\n",
    "    else:  \n",
    "        return 0\n",
    "#print(root.inorder)\n",
    "Sum = InorderTraverseTree(root) \n",
    "print(\"2 # : \" + str(Sum))"
   ]
  },
  {
   "cell_type": "markdown",
   "metadata": {},
   "source": [
    "# 3. ค้นหา โหนดในต้นไม้ ว่ามีเลขที่เราต้องการหรือไม่"
   ]
  },
  {
   "cell_type": "code",
   "execution_count": 93,
   "metadata": {},
   "outputs": [
    {
     "name": "stdout",
     "output_type": "stream",
     "text": [
      "3 #  False\n"
     ]
    }
   ],
   "source": [
    "def InorderTraverseTree(root,target):\n",
    "    res = []\n",
    "    \n",
    "    if root:\n",
    "        if target == root.value:\n",
    "            return True\n",
    "        else:\n",
    "            return False\n",
    "        res = InorderTraverseTree(root.left,target)\n",
    "        res.append(root.value)\n",
    "        res += InorderTraverseTree(root.right,target)\n",
    "        print(root.value)\n",
    "\n",
    "    return res\n",
    "    \n",
    "target = 20\n",
    "print(\"3 # \", InorderTraverseTree(root,target))\n"
   ]
  },
  {
   "cell_type": "markdown",
   "metadata": {},
   "source": [
    "# 4. ผลรวมของ กิ่งซ้ายสุด และ กิ่งขวาสุด ของต้นไม้\n"
   ]
  },
  {
   "cell_type": "code",
   "execution_count": 94,
   "metadata": {},
   "outputs": [
    {
     "name": "stdout",
     "output_type": "stream",
     "text": [
      "4 # The result :  14\n"
     ]
    }
   ],
   "source": [
    "def SumOfLeftestAndRightest(root):\n",
    "    res = []\n",
    "    if root:\n",
    "        res = SumOfLeftestAndRightest(root.left)\n",
    "        res.append(root.value)\n",
    "        res += SumOfLeftestAndRightest(root.right)\n",
    "        #print(root.value)\n",
    "\n",
    "    return res\n",
    "\n",
    "t = SumOfLeftestAndRightest(root)\n",
    "print(\"4 #\", \"The result : \", t[0] +t[-1])"
   ]
  },
  {
   "cell_type": "code",
   "execution_count": null,
   "metadata": {},
   "outputs": [],
   "source": []
  },
  {
   "cell_type": "code",
   "execution_count": null,
   "metadata": {},
   "outputs": [],
   "source": []
  }
 ],
 "metadata": {
  "kernelspec": {
   "display_name": "Python 3 (ipykernel)",
   "language": "python",
   "name": "python3"
  },
  "language_info": {
   "codemirror_mode": {
    "name": "ipython",
    "version": 3
   },
   "file_extension": ".py",
   "mimetype": "text/x-python",
   "name": "python",
   "nbconvert_exporter": "python",
   "pygments_lexer": "ipython3",
   "version": "3.10.0"
  }
 },
 "nbformat": 4,
 "nbformat_minor": 4
}
