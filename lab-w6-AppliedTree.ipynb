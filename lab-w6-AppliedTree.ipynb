{
 "cells": [
  {
   "cell_type": "markdown",
   "metadata": {},
   "source": [
    "# การประยุกต์ใช้โครงสร้างต้นไม้กับ Tree data structure\n",
    "# 1. ผลรวม คู่อันดับก่อนหน้าและลำดับตามหลัง root\n",
    "# 2. ผลรวมของ ต้นไม้ทั้งต้น \n",
    "# 3. ค้นหา โหนดในต้นไม้ ว่ามีเลขที่เราต้องการหรือไม่\n",
    "# 4. ผลรวมของ กิ่งซ้ายสุด และ กิ่งขวาสุด ของต้นไม้"
   ]
  },
  {
   "cell_type": "code",
   "execution_count": 15,
   "metadata": {},
   "outputs": [
    {
     "name": "stdout",
     "output_type": "stream",
     "text": [
      "Perfect BST of given height : \n",
      " \n",
      "                ___________________15_____________________\n",
      "               /                                          \\\n",
      "        ______7_______                           __________23_________\n",
      "       /              \\                         /                     \\\n",
      "    __3__           ___11___               ____19___               ____27___\n",
      "   /     \\         /        \\             /         \\             /         \\\n",
      "  1       5       9         _13         _17         _21         _25         _29\n",
      " / \\     / \\     / \\       /   \\       /   \\       /   \\       /   \\       /   \\\n",
      "0   2   4   6   8   10    12    14    16    18    20    22    24    26    28    30\n",
      "\n"
     ]
    }
   ],
   "source": [
    "\n",
    "from binarytree import bst\n",
    "root = bst(height = 4,is_perfect=True)\n",
    "print('Perfect BST of given height : \\n',\n",
    "      root)"
   ]
  },
  {
   "cell_type": "code",
   "execution_count": 16,
   "metadata": {},
   "outputs": [
    {
     "name": "stdout",
     "output_type": "stream",
     "text": [
      "[Node(0), Node(1), Node(2), Node(3), Node(4), Node(5), Node(6), Node(7), Node(8), Node(9), Node(10), Node(11), Node(12), Node(13), Node(14), Node(15), Node(16), Node(17), Node(18), Node(19), Node(20), Node(21), Node(22), Node(23), Node(24), Node(25), Node(26), Node(27), Node(28), Node(29), Node(30)]\n"
     ]
    }
   ],
   "source": [
    "print(root.inorder)\n"
   ]
  },
  {
   "cell_type": "code",
   "execution_count": 17,
   "metadata": {},
   "outputs": [
    {
     "name": "stdout",
     "output_type": "stream",
     "text": [
      "[Node(15), Node(7), Node(3), Node(1), Node(0), Node(2), Node(5), Node(4), Node(6), Node(11), Node(9), Node(8), Node(10), Node(13), Node(12), Node(14), Node(23), Node(19), Node(17), Node(16), Node(18), Node(21), Node(20), Node(22), Node(27), Node(25), Node(24), Node(26), Node(29), Node(28), Node(30)]\n"
     ]
    }
   ],
   "source": [
    "print(root.preorder)"
   ]
  },
  {
   "cell_type": "code",
   "execution_count": 18,
   "metadata": {},
   "outputs": [
    {
     "name": "stdout",
     "output_type": "stream",
     "text": [
      "[Node(0), Node(2), Node(1), Node(4), Node(6), Node(5), Node(3), Node(8), Node(10), Node(9), Node(12), Node(14), Node(13), Node(11), Node(7), Node(16), Node(18), Node(17), Node(20), Node(22), Node(21), Node(19), Node(24), Node(26), Node(25), Node(28), Node(30), Node(29), Node(27), Node(23), Node(15)]\n"
     ]
    }
   ],
   "source": [
    "print(root.postorder)"
   ]
  },
  {
   "cell_type": "markdown",
   "metadata": {},
   "source": [
    "# 1. ผลรวม คู่อันดับก่อนหน้าและลำดับตามหลัง root"
   ]
  },
  {
   "cell_type": "code",
   "execution_count": 19,
   "metadata": {},
   "outputs": [
    {
     "name": "stdout",
     "output_type": "stream",
     "text": [
      "15\n",
      "7\n",
      "23\n",
      "1 # : 30\n"
     ]
    }
   ],
   "source": [
    "def TraverseTree(root):\n",
    "    print(root.value)\n",
    "    print(root.left.value)\n",
    "    print(root.right.value)\n",
    "    Sum = root.left.value + root.right.value \n",
    "    return Sum\n",
    "    \n",
    "Sum = TraverseTree(root)\n",
    "print(\"1 # : \" + str(Sum))"
   ]
  },
  {
   "cell_type": "markdown",
   "metadata": {},
   "source": [
    "# 2. ผลรวมของ ต้นไม้ทั้งต้น"
   ]
  },
  {
   "cell_type": "code",
   "execution_count": 20,
   "metadata": {},
   "outputs": [
    {
     "name": "stdout",
     "output_type": "stream",
     "text": [
      "2 # : 465\n"
     ]
    }
   ],
   "source": [
    "def InorderTraverseTree(root):\n",
    "    \n",
    "    if root:\n",
    "        return  InorderTraverseTree(root.left) + int(root.value) +InorderTraverseTree(root.right)\n",
    "    else:  \n",
    "        return 0\n",
    "#print(root.inorder)\n",
    "Sum = InorderTraverseTree(root) \n",
    "print(\"2 # : \" + str(Sum))"
   ]
  },
  {
   "cell_type": "markdown",
   "metadata": {},
   "source": [
    "# 3. ค้นหา โหนดในต้นไม้ ว่ามีเลขที่เราต้องการหรือไม่"
   ]
  },
  {
   "cell_type": "code",
   "execution_count": 24,
   "metadata": {},
   "outputs": [
    {
     "name": "stdout",
     "output_type": "stream",
     "text": [
      "3 #  True\n"
     ]
    }
   ],
   "source": [
    "def Search(root,key):\n",
    "    if root:\n",
    "        if key == root.value:\n",
    "            return True\n",
    "        else:\n",
    "            if key > root.value:\n",
    "                return Search(root.right,key)\n",
    "            else:\n",
    "                return Search(root.left,key)\n",
    "    return False\n",
    "\n",
    "key = 7\n",
    "print(\"3 # \", Search(root,key))"
   ]
  },
  {
   "cell_type": "markdown",
   "metadata": {},
   "source": [
    "# 4. ผลรวมของ กิ่งซ้ายสุด และ กิ่งขวาสุด ของต้นไม้\n"
   ]
  },
  {
   "cell_type": "code",
   "execution_count": 19,
   "metadata": {},
   "outputs": [
    {
     "name": "stdout",
     "output_type": "stream",
     "text": [
      "[0, 1, 2, 3, 4, 5, 6, 7, 8, 9, 10, 11, 12, 13, 14]\n",
      "4 # The result :  14\n"
     ]
    }
   ],
   "source": [
    "def SumOfLeftestAndRightest(root):\n",
    "    res = []\n",
    "    if root:\n",
    "        res = SumOfLeftestAndRightest(root.left)\n",
    "        res.append(root.value)\n",
    "        res += SumOfLeftestAndRightest(root.right)\n",
    "        #print(root.value)\n",
    "\n",
    "    return res\n",
    "\n",
    "t = SumOfLeftestAndRightest(root)\n",
    "print(t)\n",
    "print(\"4 #\", \"The result : \", t[0] +t[-1])"
   ]
  },
  {
   "cell_type": "code",
   "execution_count": null,
   "metadata": {},
   "outputs": [],
   "source": []
  },
  {
   "cell_type": "code",
   "execution_count": null,
   "metadata": {},
   "outputs": [],
   "source": []
  }
 ],
 "metadata": {
  "kernelspec": {
   "display_name": "Python 3 (ipykernel)",
   "language": "python",
   "name": "python3"
  },
  "language_info": {
   "codemirror_mode": {
    "name": "ipython",
    "version": 3
   },
   "file_extension": ".py",
   "mimetype": "text/x-python",
   "name": "python",
   "nbconvert_exporter": "python",
   "pygments_lexer": "ipython3",
   "version": "3.10.0"
  }
 },
 "nbformat": 4,
 "nbformat_minor": 4
}
